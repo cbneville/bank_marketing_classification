{
 "cells": [
  {
   "cell_type": "markdown",
   "metadata": {},
   "source": [
    "## Data Transformation and Preprocessing for Bank Marketing Dataset\n",
    "dataset source: https://archive.ics.uci.edu/dataset/222/bank+marketing\n",
    "\n",
    "This notebook provides a detailed exploration of the data and walks through the decision-making process for replacing missing values and normalizing the data prior to machine learning."
   ]
  },
  {
   "cell_type": "code",
   "execution_count": 2,
   "metadata": {},
   "outputs": [],
   "source": [
    "#Import libraries\n",
    "from ucimlrepo import fetch_ucirepo \n",
    "import pandas as pd\n",
    "import numpy as np\n",
    "import matplotlib.pyplot as plt\n",
    "%matplotlib inline"
   ]
  },
  {
   "cell_type": "code",
   "execution_count": 3,
   "metadata": {},
   "outputs": [
    {
     "data": {
      "text/html": [
       "<div>\n",
       "<style scoped>\n",
       "    .dataframe tbody tr th:only-of-type {\n",
       "        vertical-align: middle;\n",
       "    }\n",
       "\n",
       "    .dataframe tbody tr th {\n",
       "        vertical-align: top;\n",
       "    }\n",
       "\n",
       "    .dataframe thead th {\n",
       "        text-align: right;\n",
       "    }\n",
       "</style>\n",
       "<table border=\"1\" class=\"dataframe\">\n",
       "  <thead>\n",
       "    <tr style=\"text-align: right;\">\n",
       "      <th></th>\n",
       "      <th>age</th>\n",
       "      <th>job</th>\n",
       "      <th>marital</th>\n",
       "      <th>education</th>\n",
       "      <th>default</th>\n",
       "      <th>balance</th>\n",
       "      <th>housing</th>\n",
       "      <th>loan</th>\n",
       "      <th>contact</th>\n",
       "      <th>day_of_week</th>\n",
       "      <th>month</th>\n",
       "      <th>duration</th>\n",
       "      <th>campaign</th>\n",
       "      <th>pdays</th>\n",
       "      <th>previous</th>\n",
       "      <th>poutcome</th>\n",
       "    </tr>\n",
       "  </thead>\n",
       "  <tbody>\n",
       "    <tr>\n",
       "      <th>0</th>\n",
       "      <td>58</td>\n",
       "      <td>management</td>\n",
       "      <td>married</td>\n",
       "      <td>tertiary</td>\n",
       "      <td>no</td>\n",
       "      <td>2143</td>\n",
       "      <td>yes</td>\n",
       "      <td>no</td>\n",
       "      <td>NaN</td>\n",
       "      <td>5</td>\n",
       "      <td>may</td>\n",
       "      <td>261</td>\n",
       "      <td>1</td>\n",
       "      <td>-1</td>\n",
       "      <td>0</td>\n",
       "      <td>NaN</td>\n",
       "    </tr>\n",
       "    <tr>\n",
       "      <th>1</th>\n",
       "      <td>44</td>\n",
       "      <td>technician</td>\n",
       "      <td>single</td>\n",
       "      <td>secondary</td>\n",
       "      <td>no</td>\n",
       "      <td>29</td>\n",
       "      <td>yes</td>\n",
       "      <td>no</td>\n",
       "      <td>NaN</td>\n",
       "      <td>5</td>\n",
       "      <td>may</td>\n",
       "      <td>151</td>\n",
       "      <td>1</td>\n",
       "      <td>-1</td>\n",
       "      <td>0</td>\n",
       "      <td>NaN</td>\n",
       "    </tr>\n",
       "    <tr>\n",
       "      <th>2</th>\n",
       "      <td>33</td>\n",
       "      <td>entrepreneur</td>\n",
       "      <td>married</td>\n",
       "      <td>secondary</td>\n",
       "      <td>no</td>\n",
       "      <td>2</td>\n",
       "      <td>yes</td>\n",
       "      <td>yes</td>\n",
       "      <td>NaN</td>\n",
       "      <td>5</td>\n",
       "      <td>may</td>\n",
       "      <td>76</td>\n",
       "      <td>1</td>\n",
       "      <td>-1</td>\n",
       "      <td>0</td>\n",
       "      <td>NaN</td>\n",
       "    </tr>\n",
       "    <tr>\n",
       "      <th>3</th>\n",
       "      <td>47</td>\n",
       "      <td>blue-collar</td>\n",
       "      <td>married</td>\n",
       "      <td>NaN</td>\n",
       "      <td>no</td>\n",
       "      <td>1506</td>\n",
       "      <td>yes</td>\n",
       "      <td>no</td>\n",
       "      <td>NaN</td>\n",
       "      <td>5</td>\n",
       "      <td>may</td>\n",
       "      <td>92</td>\n",
       "      <td>1</td>\n",
       "      <td>-1</td>\n",
       "      <td>0</td>\n",
       "      <td>NaN</td>\n",
       "    </tr>\n",
       "    <tr>\n",
       "      <th>4</th>\n",
       "      <td>33</td>\n",
       "      <td>NaN</td>\n",
       "      <td>single</td>\n",
       "      <td>NaN</td>\n",
       "      <td>no</td>\n",
       "      <td>1</td>\n",
       "      <td>no</td>\n",
       "      <td>no</td>\n",
       "      <td>NaN</td>\n",
       "      <td>5</td>\n",
       "      <td>may</td>\n",
       "      <td>198</td>\n",
       "      <td>1</td>\n",
       "      <td>-1</td>\n",
       "      <td>0</td>\n",
       "      <td>NaN</td>\n",
       "    </tr>\n",
       "  </tbody>\n",
       "</table>\n",
       "</div>"
      ],
      "text/plain": [
       "   age           job  marital  education default  balance housing loan  \\\n",
       "0   58    management  married   tertiary      no     2143     yes   no   \n",
       "1   44    technician   single  secondary      no       29     yes   no   \n",
       "2   33  entrepreneur  married  secondary      no        2     yes  yes   \n",
       "3   47   blue-collar  married        NaN      no     1506     yes   no   \n",
       "4   33           NaN   single        NaN      no        1      no   no   \n",
       "\n",
       "  contact  day_of_week month  duration  campaign  pdays  previous poutcome  \n",
       "0     NaN            5   may       261         1     -1         0      NaN  \n",
       "1     NaN            5   may       151         1     -1         0      NaN  \n",
       "2     NaN            5   may        76         1     -1         0      NaN  \n",
       "3     NaN            5   may        92         1     -1         0      NaN  \n",
       "4     NaN            5   may       198         1     -1         0      NaN  "
      ]
     },
     "execution_count": 3,
     "metadata": {},
     "output_type": "execute_result"
    }
   ],
   "source": [
    "## Download data from UCI ML Repo via fetch_ucirepo\n",
    "bank_marketing = fetch_ucirepo(id=222) \n",
    "X = bank_marketing.data.features \n",
    "y = bank_marketing.data.targets \n",
    "X.head()\n",
    "#NB: The loaded datasets are pandas dataframes with the value 'unknown' replace with 'NaN'.\n",
    "#Also, this downloads the older version of the dataset with 17 features as opposed to 20"
   ]
  },
  {
   "cell_type": "code",
   "execution_count": 4,
   "metadata": {},
   "outputs": [
    {
     "data": {
      "text/html": [
       "<div>\n",
       "<style scoped>\n",
       "    .dataframe tbody tr th:only-of-type {\n",
       "        vertical-align: middle;\n",
       "    }\n",
       "\n",
       "    .dataframe tbody tr th {\n",
       "        vertical-align: top;\n",
       "    }\n",
       "\n",
       "    .dataframe thead th {\n",
       "        text-align: right;\n",
       "    }\n",
       "</style>\n",
       "<table border=\"1\" class=\"dataframe\">\n",
       "  <thead>\n",
       "    <tr style=\"text-align: right;\">\n",
       "      <th></th>\n",
       "      <th>age</th>\n",
       "      <th>job</th>\n",
       "      <th>marital</th>\n",
       "      <th>education</th>\n",
       "      <th>default</th>\n",
       "      <th>balance</th>\n",
       "      <th>housing</th>\n",
       "      <th>loan</th>\n",
       "      <th>contact</th>\n",
       "      <th>day_of_week</th>\n",
       "      <th>month</th>\n",
       "      <th>duration</th>\n",
       "      <th>campaign</th>\n",
       "      <th>pdays</th>\n",
       "      <th>previous</th>\n",
       "      <th>poutcome</th>\n",
       "      <th>label</th>\n",
       "    </tr>\n",
       "  </thead>\n",
       "  <tbody>\n",
       "    <tr>\n",
       "      <th>0</th>\n",
       "      <td>58</td>\n",
       "      <td>management</td>\n",
       "      <td>married</td>\n",
       "      <td>tertiary</td>\n",
       "      <td>no</td>\n",
       "      <td>2143</td>\n",
       "      <td>yes</td>\n",
       "      <td>no</td>\n",
       "      <td>NaN</td>\n",
       "      <td>5</td>\n",
       "      <td>may</td>\n",
       "      <td>261</td>\n",
       "      <td>1</td>\n",
       "      <td>-1</td>\n",
       "      <td>0</td>\n",
       "      <td>NaN</td>\n",
       "      <td>no</td>\n",
       "    </tr>\n",
       "    <tr>\n",
       "      <th>1</th>\n",
       "      <td>44</td>\n",
       "      <td>technician</td>\n",
       "      <td>single</td>\n",
       "      <td>secondary</td>\n",
       "      <td>no</td>\n",
       "      <td>29</td>\n",
       "      <td>yes</td>\n",
       "      <td>no</td>\n",
       "      <td>NaN</td>\n",
       "      <td>5</td>\n",
       "      <td>may</td>\n",
       "      <td>151</td>\n",
       "      <td>1</td>\n",
       "      <td>-1</td>\n",
       "      <td>0</td>\n",
       "      <td>NaN</td>\n",
       "      <td>no</td>\n",
       "    </tr>\n",
       "    <tr>\n",
       "      <th>2</th>\n",
       "      <td>33</td>\n",
       "      <td>entrepreneur</td>\n",
       "      <td>married</td>\n",
       "      <td>secondary</td>\n",
       "      <td>no</td>\n",
       "      <td>2</td>\n",
       "      <td>yes</td>\n",
       "      <td>yes</td>\n",
       "      <td>NaN</td>\n",
       "      <td>5</td>\n",
       "      <td>may</td>\n",
       "      <td>76</td>\n",
       "      <td>1</td>\n",
       "      <td>-1</td>\n",
       "      <td>0</td>\n",
       "      <td>NaN</td>\n",
       "      <td>no</td>\n",
       "    </tr>\n",
       "    <tr>\n",
       "      <th>3</th>\n",
       "      <td>47</td>\n",
       "      <td>blue-collar</td>\n",
       "      <td>married</td>\n",
       "      <td>NaN</td>\n",
       "      <td>no</td>\n",
       "      <td>1506</td>\n",
       "      <td>yes</td>\n",
       "      <td>no</td>\n",
       "      <td>NaN</td>\n",
       "      <td>5</td>\n",
       "      <td>may</td>\n",
       "      <td>92</td>\n",
       "      <td>1</td>\n",
       "      <td>-1</td>\n",
       "      <td>0</td>\n",
       "      <td>NaN</td>\n",
       "      <td>no</td>\n",
       "    </tr>\n",
       "    <tr>\n",
       "      <th>4</th>\n",
       "      <td>33</td>\n",
       "      <td>NaN</td>\n",
       "      <td>single</td>\n",
       "      <td>NaN</td>\n",
       "      <td>no</td>\n",
       "      <td>1</td>\n",
       "      <td>no</td>\n",
       "      <td>no</td>\n",
       "      <td>NaN</td>\n",
       "      <td>5</td>\n",
       "      <td>may</td>\n",
       "      <td>198</td>\n",
       "      <td>1</td>\n",
       "      <td>-1</td>\n",
       "      <td>0</td>\n",
       "      <td>NaN</td>\n",
       "      <td>no</td>\n",
       "    </tr>\n",
       "  </tbody>\n",
       "</table>\n",
       "</div>"
      ],
      "text/plain": [
       "   age           job  marital  education default  balance housing loan  \\\n",
       "0   58    management  married   tertiary      no     2143     yes   no   \n",
       "1   44    technician   single  secondary      no       29     yes   no   \n",
       "2   33  entrepreneur  married  secondary      no        2     yes  yes   \n",
       "3   47   blue-collar  married        NaN      no     1506     yes   no   \n",
       "4   33           NaN   single        NaN      no        1      no   no   \n",
       "\n",
       "  contact  day_of_week month  duration  campaign  pdays  previous poutcome  \\\n",
       "0     NaN            5   may       261         1     -1         0      NaN   \n",
       "1     NaN            5   may       151         1     -1         0      NaN   \n",
       "2     NaN            5   may        76         1     -1         0      NaN   \n",
       "3     NaN            5   may        92         1     -1         0      NaN   \n",
       "4     NaN            5   may       198         1     -1         0      NaN   \n",
       "\n",
       "  label  \n",
       "0    no  \n",
       "1    no  \n",
       "2    no  \n",
       "3    no  \n",
       "4    no  "
      ]
     },
     "execution_count": 4,
     "metadata": {},
     "output_type": "execute_result"
    }
   ],
   "source": [
    "#Combine X and y so labels are removed with samples\n",
    "X['label'] = y\n",
    "X.head()"
   ]
  },
  {
   "cell_type": "markdown",
   "metadata": {},
   "source": [
    "### Check for Missing Values in Each Feature"
   ]
  },
  {
   "cell_type": "code",
   "execution_count": 5,
   "metadata": {},
   "outputs": [
    {
     "name": "stdout",
     "output_type": "stream",
     "text": [
      "Dataset length: 45211\n",
      "Number of missing values in each feature:\n",
      "age 0\n",
      "job 288\n",
      "marital 0\n",
      "education 1857\n",
      "default 0\n",
      "balance 0\n",
      "housing 0\n",
      "loan 0\n",
      "contact 13020\n",
      "day_of_week 0\n",
      "month 0\n",
      "duration 0\n",
      "campaign 0\n",
      "pdays 0\n",
      "previous 0\n",
      "poutcome 36959\n",
      "label 0\n"
     ]
    }
   ],
   "source": [
    "print(\"Dataset length: %d\"%len(X))\n",
    "print(\"Number of missing values in each feature:\")\n",
    "for col in X.columns:\n",
    "    print(col, sum(X[col].isna()))"
   ]
  },
  {
   "cell_type": "code",
   "execution_count": 6,
   "metadata": {},
   "outputs": [],
   "source": [
    "## Build functions to look at categories in an individual feature\n",
    "\n",
    "def how_many_categories(feature, df):\n",
    "    cats = set(df[feature])\n",
    "    print(\"Number of categories: %d\"%len(cats))\n",
    "    print(\"Categories:\")\n",
    "    print(cats)\n",
    "    return(list(cats))\n",
    "\n",
    "def plot_categories(feature, cat_list, df):\n",
    "    counts = []\n",
    "    for cat in cat_list:\n",
    "        counts.append(len(df[df[feature]==cat]))\n",
    "    xcoords = [i for i in range(len(counts))]\n",
    "    plt.bar(x=xcoords, height=counts)\n",
    "    plt.xticks(ticks=xcoords, labels=cat_list)\n",
    "    plt.tick_params(axis='x', labelrotation=90.0)\n",
    "    plt.ylabel(\"count\")\n",
    "    plt.title(\"Categories in %s\"%feature)\n",
    "    plt.show()"
   ]
  },
  {
   "cell_type": "code",
   "execution_count": 7,
   "metadata": {},
   "outputs": [
    {
     "name": "stdout",
     "output_type": "stream",
     "text": [
      "Number of categories: 12\n",
      "Categories:\n",
      "{'services', 'entrepreneur', 'unemployed', 'blue-collar', 'management', nan, 'admin.', 'self-employed', 'student', 'retired', 'housemaid', 'technician'}\n"
     ]
    },
    {
     "data": {
      "image/png": "[encoded data removed]",
      "text/plain": [
       "<Figure size 640x480 with 1 Axes>"
      ]
     },
     "metadata": {},
     "output_type": "display_data"
    }
   ],
   "source": [
    "# Look at jobs feature\n",
    "job_cats = how_many_categories('job',X)\n",
    "plot_categories('job', job_cats, X)"
   ]
  },
  {
   "cell_type": "markdown",
   "metadata": {},
   "source": [
    "There are 12 categories of job in this dataset. There are a total of 45,211 samples, 288 of which are missing data for job. Options:\n",
    "- Remove samples with nan for job. There aren't many of them.\n",
    "- Allow nan to be a category of job. Again, there aren't many of them, so hopefully it won't have a huge effect but would allow the keeping of the sample.\n",
    "- Impute with the most common job type\n",
    "- Impute with 'unemployed' or 'retired' since those are the most likely cases where the value would be input as null\n",
    "\n",
    "No one job category is much more prevalent than the others. It does not make sense to replace missing values with the majority class. Since it isn't clear whether 'retired' or 'unemployed' is the better replacement option, I'm opting to delete samples without a job category."
   ]
  },
  {
   "cell_type": "code",
   "execution_count": 8,
   "metadata": {},
   "outputs": [
    {
     "name": "stdout",
     "output_type": "stream",
     "text": [
      "45211\n",
      "44923\n"
     ]
    }
   ],
   "source": [
    "print(len(X))\n",
    "X.dropna(subset='job', inplace=True)\n",
    "print(len(X))\n"
   ]
  },
  {
   "cell_type": "code",
   "execution_count": 9,
   "metadata": {},
   "outputs": [
    {
     "name": "stdout",
     "output_type": "stream",
     "text": [
      "Number of categories: 4\n",
      "Categories:\n",
      "{nan, 'secondary', 'primary', 'tertiary'}\n"
     ]
    },
    {
     "data": {
      "image/png": "[encoded data removed]",
      "text/plain": [
       "<Figure size 640x480 with 1 Axes>"
      ]
     },
     "metadata": {},
     "output_type": "display_data"
    }
   ],
   "source": [
    "## Look at education\n",
    "education_cats = how_many_categories('education',X)\n",
    "plot_categories('education', education_cats, X)"
   ]
  },
  {
   "cell_type": "markdown",
   "metadata": {},
   "source": [
    "Here 1,857 samples are missing values, so removing samples with missing values would remove a lot of data. It seems reasonable to replace NaNs in this column with 'secondary', since this is the most common category and is a reasonable compromise between the other two options."
   ]
  },
  {
   "cell_type": "code",
   "execution_count": 10,
   "metadata": {},
   "outputs": [],
   "source": [
    "X['education'] = X['education'].fillna(\"secondary\")"
   ]
  },
  {
   "cell_type": "code",
   "execution_count": 11,
   "metadata": {},
   "outputs": [
    {
     "name": "stdout",
     "output_type": "stream",
     "text": [
      "Number of categories: 3\n",
      "Categories:\n",
      "{'cellular', nan, 'telephone'}\n"
     ]
    },
    {
     "data": {
      "image/png": "[encoded data removed]",
      "text/plain": [
       "<Figure size 640x480 with 1 Axes>"
      ]
     },
     "metadata": {},
     "output_type": "display_data"
    }
   ],
   "source": [
    "##Look at contact method\n",
    "contact_cats = how_many_categories('contact',X)\n",
    "plot_categories('contact', contact_cats, X)"
   ]
  },
  {
   "cell_type": "markdown",
   "metadata": {},
   "source": [
    "I think we can assume from the nature of this dataset that all customers were contacted. Therefore, it makes sense to replace nan values with 'cellular', the majority class."
   ]
  },
  {
   "cell_type": "code",
   "execution_count": 12,
   "metadata": {},
   "outputs": [],
   "source": [
    "X['contact'] = X['contact'].fillna(\"cellular\")"
   ]
  },
  {
   "cell_type": "code",
   "execution_count": 13,
   "metadata": {},
   "outputs": [
    {
     "name": "stdout",
     "output_type": "stream",
     "text": [
      "Number of categories: 4\n",
      "Categories:\n",
      "{'failure', 'other', nan, 'success'}\n"
     ]
    },
    {
     "data": {
      "image/png": "[encoded data removed]",
      "text/plain": [
       "<Figure size 640x480 with 1 Axes>"
      ]
     },
     "metadata": {},
     "output_type": "display_data"
    }
   ],
   "source": [
    "#Look at poutcome\n",
    "poutcome_cats = how_many_categories('poutcome',X)\n",
    "plot_categories('poutcome', poutcome_cats, X)"
   ]
  },
  {
   "cell_type": "markdown",
   "metadata": {},
   "source": [
    "There are 36,959 samples with NaN for poutcome (the outcome of a previous marketing campaign for this customer), making NaN the majority class. It may make sense to ignore this feature entirely. If we're going to replace NaN with a value, 'other' seems reasonable. "
   ]
  },
  {
   "cell_type": "code",
   "execution_count": 14,
   "metadata": {},
   "outputs": [],
   "source": [
    "X['poutcome'] = X['poutcome'].fillna(\"other\")"
   ]
  },
  {
   "cell_type": "code",
   "execution_count": 15,
   "metadata": {},
   "outputs": [
    {
     "name": "stdout",
     "output_type": "stream",
     "text": [
      "Dataset shape:  (44923, 17)\n",
      "Number of missing values in each feature:\n",
      "age 0\n",
      "job 0\n",
      "marital 0\n",
      "education 0\n",
      "default 0\n",
      "balance 0\n",
      "housing 0\n",
      "loan 0\n",
      "contact 0\n",
      "day_of_week 0\n",
      "month 0\n",
      "duration 0\n",
      "campaign 0\n",
      "pdays 0\n",
      "previous 0\n",
      "poutcome 0\n",
      "label 0\n"
     ]
    }
   ],
   "source": [
    "#Double check all NaNs were removed\n",
    "print(\"Dataset shape: \", X.shape)\n",
    "print(\"Number of missing values in each feature:\")\n",
    "for col in X.columns:\n",
    "    print(col, sum(X[col].isna()))"
   ]
  },
  {
   "cell_type": "markdown",
   "metadata": {},
   "source": [
    "#### Removing 'duration' feature\n",
    "The feature 'duration' will be deleted from consideration following this note uploaded with the dataset to the UCI repository:\n",
    "\n",
    "\"Important note: this attribute highly affects the output target (e.g., if duration=0 then y='no'). Yet, the duration is not known before a call is performed. Also, after the end of the call y is obviously known. Thus, this input should only be included for benchmark purposes and should be discarded if the intention is to have a realistic predictive model.\""
   ]
  },
  {
   "cell_type": "code",
   "execution_count": 16,
   "metadata": {},
   "outputs": [],
   "source": [
    "X.drop(columns='duration', inplace=True)"
   ]
  },
  {
   "cell_type": "markdown",
   "metadata": {},
   "source": [
    "### Train-test split\n",
    "\n",
    "Training and test data will be encoded and normalized separately to better mirror a real-world scenario. Ideally, we would keep the data sorted by date, as it is, and split off the bottom chunk for use as a test set, to mimic a situation in which past data is used to predict future occurrences. However, doing so results in training data with 6% positive examples and test data with 47% positive examples, which is not conducive to model training and evaluation. Perhaps some marketing strategies changed later on in the data gathering period, resulting in better success rates towards the end of the period. It is unreasonable to hope that the model will learn well when most of the positive examples are not available for training, so instead all samples are shuffled and randomly split into the train, validation, and test sets."
   ]
  },
  {
   "cell_type": "code",
   "execution_count": 17,
   "metadata": {},
   "outputs": [
    {
     "name": "stderr",
     "output_type": "stream",
     "text": [
      "/var/folders/sk/_mw52g314ps5mcv8jqdlynjc0000gn/T/ipykernel_5007/2994240890.py:9: FutureWarning: Downcasting behavior in `replace` is deprecated and will be removed in a future version. To retain the old behavior, explicitly call `result.infer_objects(copy=False)`. To opt-in to the future behavior, set `pd.set_option('future.no_silent_downcasting', True)`\n",
      "  y_subset = df['label'].replace({'no':0, 'yes':1})\n",
      "/var/folders/sk/_mw52g314ps5mcv8jqdlynjc0000gn/T/ipykernel_5007/2994240890.py:9: FutureWarning: Downcasting behavior in `replace` is deprecated and will be removed in a future version. To retain the old behavior, explicitly call `result.infer_objects(copy=False)`. To opt-in to the future behavior, set `pd.set_option('future.no_silent_downcasting', True)`\n",
      "  y_subset = df['label'].replace({'no':0, 'yes':1})\n",
      "/var/folders/sk/_mw52g314ps5mcv8jqdlynjc0000gn/T/ipykernel_5007/2994240890.py:9: FutureWarning: Downcasting behavior in `replace` is deprecated and will be removed in a future version. To retain the old behavior, explicitly call `result.infer_objects(copy=False)`. To opt-in to the future behavior, set `pd.set_option('future.no_silent_downcasting', True)`\n",
      "  y_subset = df['label'].replace({'no':0, 'yes':1})\n"
     ]
    }
   ],
   "source": [
    "from sklearn.model_selection import train_test_split\n",
    "\n",
    "np.random.seed(42)\n",
    "\n",
    "train, testval = train_test_split(X, test_size=0.2, shuffle=True) #change to false if want to use later datapoints as test set\n",
    "val, test = train_test_split(testval, test_size=0.5, shuffle=True)\n",
    "\n",
    "def split_and_save(df, name):\n",
    "    y_subset = df['label'].replace({'no':0, 'yes':1})\n",
    "    X_subset = df.drop(columns='label')\n",
    "    y_subset.to_csv(\"y_%s.csv\"%name, index=False)\n",
    "    X_subset.to_csv(\"X_%s_nonorm.csv\"%name, index=False)\n",
    "    return(X_subset, y_subset)\n",
    "\n",
    "X_train, y_train = split_and_save(train, \"train\")\n",
    "X_val, y_val = split_and_save(val, \"val\")\n",
    "X_test, y_test = split_and_save(test, \"test\")\n"
   ]
  },
  {
   "cell_type": "markdown",
   "metadata": {},
   "source": [
    "### Data Normalization\n",
    "The nonorm.csv datasets will be used for algorithms such as XGBoost that do not require normalization or categorical variable encoding. The following cells further process the datasets for algorithms such as neural networks that do require such transformations."
   ]
  },
  {
   "cell_type": "code",
   "execution_count": 18,
   "metadata": {},
   "outputs": [],
   "source": [
    "#Read in saved data from files if not already in memory\n",
    "X_train = pd.read_csv(\"X_train_nonorm.csv\")"
   ]
  },
  {
   "cell_type": "markdown",
   "metadata": {},
   "source": [
    "##### One-Hot Encoding\n",
    "Categorical variables with less than 20 categories will be one-hot encoded. That includes job, marital, poutcome, default, housing, loan, and contact. Categorical variables with only two categories will be encoded as a single feature each (binary encoded)."
   ]
  },
  {
   "cell_type": "code",
   "execution_count": 19,
   "metadata": {},
   "outputs": [
    {
     "data": {
      "text/html": [
       "<div>\n",
       "<style scoped>\n",
       "    .dataframe tbody tr th:only-of-type {\n",
       "        vertical-align: middle;\n",
       "    }\n",
       "\n",
       "    .dataframe tbody tr th {\n",
       "        vertical-align: top;\n",
       "    }\n",
       "\n",
       "    .dataframe thead th {\n",
       "        text-align: right;\n",
       "    }\n",
       "</style>\n",
       "<table border=\"1\" class=\"dataframe\">\n",
       "  <thead>\n",
       "    <tr style=\"text-align: right;\">\n",
       "      <th></th>\n",
       "      <th>job_admin.</th>\n",
       "      <th>job_blue-collar</th>\n",
       "      <th>job_entrepreneur</th>\n",
       "      <th>job_housemaid</th>\n",
       "      <th>job_management</th>\n",
       "      <th>job_retired</th>\n",
       "      <th>job_self-employed</th>\n",
       "      <th>job_services</th>\n",
       "      <th>job_student</th>\n",
       "      <th>job_technician</th>\n",
       "      <th>...</th>\n",
       "      <th>marital_divorced</th>\n",
       "      <th>marital_married</th>\n",
       "      <th>marital_single</th>\n",
       "      <th>poutcome_failure</th>\n",
       "      <th>poutcome_other</th>\n",
       "      <th>poutcome_success</th>\n",
       "      <th>default_yes</th>\n",
       "      <th>housing_yes</th>\n",
       "      <th>loan_yes</th>\n",
       "      <th>contact_telephone</th>\n",
       "    </tr>\n",
       "  </thead>\n",
       "  <tbody>\n",
       "    <tr>\n",
       "      <th>0</th>\n",
       "      <td>0.0</td>\n",
       "      <td>0.0</td>\n",
       "      <td>0.0</td>\n",
       "      <td>0.0</td>\n",
       "      <td>1.0</td>\n",
       "      <td>0.0</td>\n",
       "      <td>0.0</td>\n",
       "      <td>0.0</td>\n",
       "      <td>0.0</td>\n",
       "      <td>0.0</td>\n",
       "      <td>...</td>\n",
       "      <td>0.0</td>\n",
       "      <td>0.0</td>\n",
       "      <td>1.0</td>\n",
       "      <td>0.0</td>\n",
       "      <td>1.0</td>\n",
       "      <td>0.0</td>\n",
       "      <td>0.0</td>\n",
       "      <td>0.0</td>\n",
       "      <td>0.0</td>\n",
       "      <td>0.0</td>\n",
       "    </tr>\n",
       "    <tr>\n",
       "      <th>1</th>\n",
       "      <td>0.0</td>\n",
       "      <td>0.0</td>\n",
       "      <td>0.0</td>\n",
       "      <td>0.0</td>\n",
       "      <td>1.0</td>\n",
       "      <td>0.0</td>\n",
       "      <td>0.0</td>\n",
       "      <td>0.0</td>\n",
       "      <td>0.0</td>\n",
       "      <td>0.0</td>\n",
       "      <td>...</td>\n",
       "      <td>0.0</td>\n",
       "      <td>1.0</td>\n",
       "      <td>0.0</td>\n",
       "      <td>0.0</td>\n",
       "      <td>1.0</td>\n",
       "      <td>0.0</td>\n",
       "      <td>0.0</td>\n",
       "      <td>0.0</td>\n",
       "      <td>0.0</td>\n",
       "      <td>0.0</td>\n",
       "    </tr>\n",
       "    <tr>\n",
       "      <th>2</th>\n",
       "      <td>0.0</td>\n",
       "      <td>0.0</td>\n",
       "      <td>0.0</td>\n",
       "      <td>0.0</td>\n",
       "      <td>0.0</td>\n",
       "      <td>0.0</td>\n",
       "      <td>0.0</td>\n",
       "      <td>1.0</td>\n",
       "      <td>0.0</td>\n",
       "      <td>0.0</td>\n",
       "      <td>...</td>\n",
       "      <td>1.0</td>\n",
       "      <td>0.0</td>\n",
       "      <td>0.0</td>\n",
       "      <td>0.0</td>\n",
       "      <td>1.0</td>\n",
       "      <td>0.0</td>\n",
       "      <td>0.0</td>\n",
       "      <td>1.0</td>\n",
       "      <td>0.0</td>\n",
       "      <td>0.0</td>\n",
       "    </tr>\n",
       "    <tr>\n",
       "      <th>3</th>\n",
       "      <td>0.0</td>\n",
       "      <td>0.0</td>\n",
       "      <td>0.0</td>\n",
       "      <td>0.0</td>\n",
       "      <td>1.0</td>\n",
       "      <td>0.0</td>\n",
       "      <td>0.0</td>\n",
       "      <td>0.0</td>\n",
       "      <td>0.0</td>\n",
       "      <td>0.0</td>\n",
       "      <td>...</td>\n",
       "      <td>0.0</td>\n",
       "      <td>1.0</td>\n",
       "      <td>0.0</td>\n",
       "      <td>0.0</td>\n",
       "      <td>1.0</td>\n",
       "      <td>0.0</td>\n",
       "      <td>0.0</td>\n",
       "      <td>1.0</td>\n",
       "      <td>0.0</td>\n",
       "      <td>0.0</td>\n",
       "    </tr>\n",
       "    <tr>\n",
       "      <th>4</th>\n",
       "      <td>0.0</td>\n",
       "      <td>0.0</td>\n",
       "      <td>0.0</td>\n",
       "      <td>0.0</td>\n",
       "      <td>0.0</td>\n",
       "      <td>0.0</td>\n",
       "      <td>0.0</td>\n",
       "      <td>1.0</td>\n",
       "      <td>0.0</td>\n",
       "      <td>0.0</td>\n",
       "      <td>...</td>\n",
       "      <td>0.0</td>\n",
       "      <td>1.0</td>\n",
       "      <td>0.0</td>\n",
       "      <td>0.0</td>\n",
       "      <td>1.0</td>\n",
       "      <td>0.0</td>\n",
       "      <td>0.0</td>\n",
       "      <td>0.0</td>\n",
       "      <td>0.0</td>\n",
       "      <td>0.0</td>\n",
       "    </tr>\n",
       "  </tbody>\n",
       "</table>\n",
       "<p>5 rows × 21 columns</p>\n",
       "</div>"
      ],
      "text/plain": [
       "   job_admin.  job_blue-collar  job_entrepreneur  job_housemaid  \\\n",
       "0         0.0              0.0               0.0            0.0   \n",
       "1         0.0              0.0               0.0            0.0   \n",
       "2         0.0              0.0               0.0            0.0   \n",
       "3         0.0              0.0               0.0            0.0   \n",
       "4         0.0              0.0               0.0            0.0   \n",
       "\n",
       "   job_management  job_retired  job_self-employed  job_services  job_student  \\\n",
       "0             1.0          0.0                0.0           0.0          0.0   \n",
       "1             1.0          0.0                0.0           0.0          0.0   \n",
       "2             0.0          0.0                0.0           1.0          0.0   \n",
       "3             1.0          0.0                0.0           0.0          0.0   \n",
       "4             0.0          0.0                0.0           1.0          0.0   \n",
       "\n",
       "   job_technician  ...  marital_divorced  marital_married  marital_single  \\\n",
       "0             0.0  ...               0.0              0.0             1.0   \n",
       "1             0.0  ...               0.0              1.0             0.0   \n",
       "2             0.0  ...               1.0              0.0             0.0   \n",
       "3             0.0  ...               0.0              1.0             0.0   \n",
       "4             0.0  ...               0.0              1.0             0.0   \n",
       "\n",
       "   poutcome_failure  poutcome_other  poutcome_success  default_yes  \\\n",
       "0               0.0             1.0               0.0          0.0   \n",
       "1               0.0             1.0               0.0          0.0   \n",
       "2               0.0             1.0               0.0          0.0   \n",
       "3               0.0             1.0               0.0          0.0   \n",
       "4               0.0             1.0               0.0          0.0   \n",
       "\n",
       "   housing_yes  loan_yes  contact_telephone  \n",
       "0          0.0       0.0                0.0  \n",
       "1          0.0       0.0                0.0  \n",
       "2          1.0       0.0                0.0  \n",
       "3          1.0       0.0                0.0  \n",
       "4          0.0       0.0                0.0  \n",
       "\n",
       "[5 rows x 21 columns]"
      ]
     },
     "execution_count": 19,
     "metadata": {},
     "output_type": "execute_result"
    }
   ],
   "source": [
    "from sklearn.preprocessing import OneHotEncoder\n",
    "categorical_vars = ['job', 'marital', 'poutcome', 'default', 'housing','loan','contact']\n",
    "oh_encoder = OneHotEncoder(sparse_output=False, drop='if_binary')\n",
    "oh_encoder.fit(X_train[categorical_vars])\n",
    "oh_encoded = oh_encoder.transform(X_train[categorical_vars])\n",
    "ohe_df = pd.DataFrame(oh_encoded, columns=oh_encoder.get_feature_names_out())\n",
    "ohe_df.head()"
   ]
  },
  {
   "cell_type": "code",
   "execution_count": 20,
   "metadata": {},
   "outputs": [],
   "source": [
    "#Looks good. Replace values in X_train:\n",
    "X_train.drop(columns=categorical_vars, inplace=True)\n",
    "ohe_df.set_index(X_train.index)\n",
    "X_train = pd.merge(X_train, ohe_df, left_index=True, right_index=True)"
   ]
  },
  {
   "cell_type": "markdown",
   "metadata": {},
   "source": [
    "##### Education\n",
    "It makes sense to ordinal encode education, since there are three sequential levels to it.\n"
   ]
  },
  {
   "cell_type": "code",
   "execution_count": 21,
   "metadata": {},
   "outputs": [],
   "source": [
    "from sklearn.preprocessing import OrdinalEncoder\n",
    "\n",
    "ordinal_enc_dict = {'primary':1, 'secondary':2, 'tertiary':3}\n",
    "education_encoded = [ordinal_enc_dict[X_train['education'].iloc[i]] for i in range(len(X_train))]\n",
    "X_train['education'] = education_encoded\n"
   ]
  },
  {
   "cell_type": "markdown",
   "metadata": {},
   "source": [
    "The remaining features require some investigation to determine the best treatment:"
   ]
  },
  {
   "cell_type": "markdown",
   "metadata": {},
   "source": [
    "##### Age\n",
    "Age should be relatively uniformly distributed, in which case min-max scaling to bring it into the range of (0,1) makes sense. "
   ]
  },
  {
   "cell_type": "code",
   "execution_count": 22,
   "metadata": {},
   "outputs": [
    {
     "data": {
      "image/png": "[encoded data removed]",
      "text/plain": [
       "<Figure size 640x480 with 1 Axes>"
      ]
     },
     "metadata": {},
     "output_type": "display_data"
    }
   ],
   "source": [
    "#Check age distribution in X_train\n",
    "plt.hist(X_train['age'])\n",
    "plt.show()"
   ]
  },
  {
   "cell_type": "markdown",
   "metadata": {},
   "source": [
    "Well, that doesn't look uniform, but it doesn't look normal either. Since min-max scaling is generally advised for age integers, we will move forward with it anyway. We will save the min and max values from the training set for use in normalizing the validation and test sets."
   ]
  },
  {
   "cell_type": "code",
   "execution_count": 23,
   "metadata": {},
   "outputs": [
    {
     "data": {
      "image/png": "[encoded data removed]",
      "text/plain": [
       "<Figure size 640x480 with 1 Axes>"
      ]
     },
     "metadata": {},
     "output_type": "display_data"
    }
   ],
   "source": [
    "age_min = np.min(X_train['age'])\n",
    "age_max = np.max(X_train['age'])\n",
    "age_scaled = (X_train['age'] - age_min)/(age_max - age_min)\n",
    "\n",
    "#Check scaled data looks right before updating X_train\n",
    "plt.hist(age_scaled)\n",
    "plt.show()"
   ]
  },
  {
   "cell_type": "code",
   "execution_count": 24,
   "metadata": {},
   "outputs": [],
   "source": [
    "#It looks fine. Update:\n",
    "X_train['age'] = age_scaled"
   ]
  },
  {
   "cell_type": "markdown",
   "metadata": {},
   "source": [
    "##### Balance\n",
    "definition: average yearly balance (for the customer?)"
   ]
  },
  {
   "cell_type": "code",
   "execution_count": 25,
   "metadata": {},
   "outputs": [
    {
     "data": {
      "image/png": "[encoded data removed]",
      "text/plain": [
       "<Figure size 640x480 with 1 Axes>"
      ]
     },
     "metadata": {},
     "output_type": "display_data"
    }
   ],
   "source": [
    "#First check distribution\n",
    "plt.hist(X_train['balance'], bins=100)\n",
    "plt.show()"
   ]
  },
  {
   "cell_type": "markdown",
   "metadata": {},
   "source": [
    "The majority of balances are 0, with a handful below 0 and some skew above 0. Since the data distribution is already cented around 0, I'm going to use standardization."
   ]
  },
  {
   "cell_type": "code",
   "execution_count": 26,
   "metadata": {},
   "outputs": [
    {
     "data": {
      "image/png": "[encoded data removed]",
      "text/plain": [
       "<Figure size 640x480 with 1 Axes>"
      ]
     },
     "metadata": {},
     "output_type": "display_data"
    }
   ],
   "source": [
    "balance_mean = np.mean(X_train['balance'])\n",
    "balance_std = np.std(X_train['balance'])\n",
    "balance_scaled = (X_train['balance'] - balance_mean)/balance_std\n",
    "plt.hist(balance_scaled, bins=100)\n",
    "plt.show()"
   ]
  },
  {
   "cell_type": "markdown",
   "metadata": {},
   "source": [
    "New data is in smaller range but is still very skewed. There are not many samples with a scaled balance > 5. It seems reasonable to replace any values >5 with 5 to avoid issues with large numbers.\n"
   ]
  },
  {
   "cell_type": "code",
   "execution_count": 27,
   "metadata": {},
   "outputs": [
    {
     "data": {
      "image/png": "[encoded data removed]",
      "text/plain": [
       "<Figure size 640x480 with 1 Axes>"
      ]
     },
     "metadata": {},
     "output_type": "display_data"
    }
   ],
   "source": [
    "balance_scaled_masked = pd.DataFrame(balance_scaled).mask(balance_scaled > 5, 5)\n",
    "plt.hist(balance_scaled_masked)\n",
    "plt.show()"
   ]
  },
  {
   "cell_type": "code",
   "execution_count": 28,
   "metadata": {},
   "outputs": [],
   "source": [
    "#Looks ok to me. Let's set it.\n",
    "X_train['balance'] = balance_scaled_masked"
   ]
  },
  {
   "cell_type": "markdown",
   "metadata": {},
   "source": [
    "##### Time Features\n",
    "Day_of_week and month are both time-based features, which are best encoded using RBF scaling. The day_of_week feature ranges from 1 to 31 and appears to actually be the day of the month, not the day of the week."
   ]
  },
  {
   "cell_type": "code",
   "execution_count": 29,
   "metadata": {},
   "outputs": [
    {
     "data": {
      "image/png": "[encoded data removed]",
      "text/plain": [
       "<Figure size 640x480 with 1 Axes>"
      ]
     },
     "metadata": {},
     "output_type": "display_data"
    }
   ],
   "source": [
    "from sklego.preprocessing import RepeatingBasisFunction\n",
    "\n",
    "rbf_day = RepeatingBasisFunction(n_periods=4, column='day_of_week', input_range=(1,31))\n",
    "day_of_week_transformed = np.array(rbf_day.fit_transform(X_train))\n",
    "\n",
    "plt.scatter(x=X_train['day_of_week'], y=day_of_week_transformed[:,0], color='red', label=\"RBF function 1\")\n",
    "plt.scatter(x=X_train['day_of_week'], y=day_of_week_transformed[:,1], color='orange', label=\"RBF function 2\")\n",
    "plt.scatter(x=X_train['day_of_week'], y=day_of_week_transformed[:,2], color='green', label=\"RBF function 3\")\n",
    "plt.scatter(x=X_train['day_of_week'], y=day_of_week_transformed[:,3], color='blue', label=\"RBF function 4\")\n",
    "plt.xlabel(\"Day of Month\")\n",
    "plt.ylabel(\"RBF Function Value\")\n",
    "plt.legend()\n",
    "plt.title(\"Representation of day of month in four RBFs\")\n",
    "plt.show()\n"
   ]
  },
  {
   "cell_type": "markdown",
   "metadata": {},
   "source": [
    "With the RBF transformation, day_of_week has been transformed from a single value ranging from 1 to 31 to four values, each ranging from 0 to 1, the combination of which indicates where the date falls in the cycle of a month. This enables day 1 to look similar to both day 2 and day 31."
   ]
  },
  {
   "cell_type": "code",
   "execution_count": 30,
   "metadata": {},
   "outputs": [],
   "source": [
    "#Update X_train\n",
    "X_train.drop(columns='day_of_week',inplace=True)\n",
    "X_train['day_of_month_rbf1'] = day_of_week_transformed[:,0]\n",
    "X_train['day_of_month_rbf2'] = day_of_week_transformed[:,1]\n",
    "X_train['day_of_month_rbf3'] = day_of_week_transformed[:,2]\n",
    "X_train['day_of_month_rbf4'] = day_of_week_transformed[:,3]\n"
   ]
  },
  {
   "cell_type": "code",
   "execution_count": 31,
   "metadata": {},
   "outputs": [
    {
     "name": "stderr",
     "output_type": "stream",
     "text": [
      "/var/folders/sk/_mw52g314ps5mcv8jqdlynjc0000gn/T/ipykernel_5007/3027142515.py:4: FutureWarning: Downcasting behavior in `replace` is deprecated and will be removed in a future version. To retain the old behavior, explicitly call `result.infer_objects(copy=False)`. To opt-in to the future behavior, set `pd.set_option('future.no_silent_downcasting', True)`\n",
      "  X_train['month'] = X_train['month'].replace(month_dict)\n"
     ]
    }
   ],
   "source": [
    "#Same for months, but first need to ordinal encode them from strings\n",
    "month_dict = {'jan':1, 'feb':2, 'mar':3, 'apr':4, 'may':5, 'jun':6,\n",
    "              'jul':7, 'aug':8, 'sep':9, 'oct':10, 'nov':11, 'dec':12}\n",
    "X_train['month'] = X_train['month'].replace(month_dict)\n",
    "\n",
    "rbf_month = RepeatingBasisFunction(n_periods=4, input_range=(1,12), column=\"month\")\n",
    "month_transformed = np.array(rbf_month.fit_transform(X_train))\n",
    "\n",
    "X_train.drop(columns='month',inplace=True)\n",
    "X_train['month_rbf1'] = month_transformed[:,0]\n",
    "X_train['month_rbf2'] = month_transformed[:,1]\n",
    "X_train['month_rbf3'] = month_transformed[:,2]\n",
    "X_train['month_rbf4'] = month_transformed[:,3]\n"
   ]
  },
  {
   "cell_type": "markdown",
   "metadata": {},
   "source": [
    "##### Campaign\n",
    "definition: the number of contacts performed during this campaign for this client"
   ]
  },
  {
   "cell_type": "code",
   "execution_count": 32,
   "metadata": {},
   "outputs": [
    {
     "data": {
      "image/png": "[encoded data removed]",
      "text/plain": [
       "<Figure size 640x480 with 1 Axes>"
      ]
     },
     "metadata": {},
     "output_type": "display_data"
    }
   ],
   "source": [
    "plt.hist(X_train['campaign'],bins=100)\n",
    "plt.show()"
   ]
  },
  {
   "cell_type": "markdown",
   "metadata": {},
   "source": [
    "This feature looks like it follows a Poisson distribution with lambda=1, which is not unusual for count data such as this. A log transformation might be reasonable to reduce the spread of the data, especially as no value is less than 1."
   ]
  },
  {
   "cell_type": "code",
   "execution_count": 33,
   "metadata": {},
   "outputs": [
    {
     "data": {
      "image/png": "[encoded data removed]",
      "text/plain": [
       "<Figure size 640x480 with 1 Axes>"
      ]
     },
     "metadata": {},
     "output_type": "display_data"
    }
   ],
   "source": [
    "#Transform and visualize\n",
    "camp_log = np.log(X_train['campaign'].to_list())\n",
    "plt.hist(camp_log)\n",
    "plt.show()"
   ]
  },
  {
   "cell_type": "code",
   "execution_count": 34,
   "metadata": {},
   "outputs": [],
   "source": [
    "#It looks ok. Update X_train.\n",
    "X_train['campaign'] = camp_log"
   ]
  },
  {
   "cell_type": "markdown",
   "metadata": {},
   "source": [
    "##### Pdays\n",
    "definition: number of days that passed by after the client was last contacted from a previous campaign (-1 means client was not previously contacted)"
   ]
  },
  {
   "cell_type": "code",
   "execution_count": 35,
   "metadata": {},
   "outputs": [
    {
     "data": {
      "image/png": "[encoded data removed]",
      "text/plain": [
       "<Figure size 640x480 with 1 Axes>"
      ]
     },
     "metadata": {},
     "output_type": "display_data"
    }
   ],
   "source": [
    "#Check out the distribution\n",
    "plt.hist(X_train['pdays'], bins=100)\n",
    "plt.show()"
   ]
  },
  {
   "cell_type": "code",
   "execution_count": 36,
   "metadata": {},
   "outputs": [
    {
     "name": "stdout",
     "output_type": "stream",
     "text": [
      "Number of samples with pdays<0:  29388\n",
      "Number of samples with pdays>0:  6550\n"
     ]
    }
   ],
   "source": [
    "print(\"Number of samples with pdays<0: \", len(X_train[X_train['pdays']<0]))\n",
    "print(\"Number of samples with pdays>0: \", len(X_train[X_train['pdays']>0]))"
   ]
  },
  {
   "cell_type": "markdown",
   "metadata": {},
   "source": [
    "The majority of samples have pdays=-1 (client not previously contacted). Could do a binary encoding, where pdays=1 if client has been contacted before, else 0. This would throw away potentially helpful information--the length of time since last contact does probably impact customer sign-up. Standardization might be the best call, because it will keep the negative examples negative while reducing the range of the feature."
   ]
  },
  {
   "cell_type": "code",
   "execution_count": 37,
   "metadata": {},
   "outputs": [
    {
     "data": {
      "image/png": "[encoded data removed]",
      "text/plain": [
       "<Figure size 640x480 with 1 Axes>"
      ]
     },
     "metadata": {},
     "output_type": "display_data"
    }
   ],
   "source": [
    "pdays_mean = np.mean(X_train['pdays'])\n",
    "pdays_std = np.std(X_train['pdays'])\n",
    "pdays_normed = (X_train['pdays'] - pdays_mean)/pdays_std\n",
    "plt.hist(pdays_normed, bins=100)\n",
    "plt.show()"
   ]
  },
  {
   "cell_type": "code",
   "execution_count": 38,
   "metadata": {},
   "outputs": [
    {
     "name": "stdout",
     "output_type": "stream",
     "text": [
      "29388\n",
      "29570\n"
     ]
    }
   ],
   "source": [
    "#Check that have same number of negative samples in un-transformed and transformed data\n",
    "print(len(X_train[X_train['pdays']<0]))\n",
    "print(sum(pdays_normed < 0))\n"
   ]
  },
  {
   "cell_type": "code",
   "execution_count": 39,
   "metadata": {},
   "outputs": [],
   "source": [
    "#let's do it.\n",
    "X_train['pdays'] = pdays_normed"
   ]
  },
  {
   "cell_type": "markdown",
   "metadata": {},
   "source": [
    "##### Previous\n",
    "definition: number of contacts performed before this campaign for this client"
   ]
  },
  {
   "cell_type": "code",
   "execution_count": 40,
   "metadata": {},
   "outputs": [
    {
     "data": {
      "image/png": "[encoded data removed]",
      "text/plain": [
       "<Figure size 640x480 with 1 Axes>"
      ]
     },
     "metadata": {},
     "output_type": "display_data"
    }
   ],
   "source": [
    "#Check out the distribution\n",
    "plt.hist(X_train['previous'], bins=100)\n",
    "plt.show()"
   ]
  },
  {
   "cell_type": "code",
   "execution_count": 41,
   "metadata": {},
   "outputs": [
    {
     "name": "stdout",
     "output_type": "stream",
     "text": [
      "Number of samples with previous=0:  29388\n",
      "Number of samples with previous=1:  2198\n",
      "Number of samples with previous>1:  4352\n"
     ]
    }
   ],
   "source": [
    "print(\"Number of samples with previous=0: \", len(X_train[X_train['previous']==0]))\n",
    "print(\"Number of samples with previous=1: \", len(X_train[X_train['previous']==1]))\n",
    "print(\"Number of samples with previous>1: \", len(X_train[X_train['previous']>1]))"
   ]
  },
  {
   "cell_type": "markdown",
   "metadata": {},
   "source": [
    "Again, most of the samples have a value of zero. We could switch this to a binary encoding, or do standardization, or do binning to create an ordinal encoding."
   ]
  },
  {
   "cell_type": "code",
   "execution_count": 42,
   "metadata": {},
   "outputs": [
    {
     "name": "stdout",
     "output_type": "stream",
     "text": [
      "29388\n"
     ]
    },
    {
     "data": {
      "image/png": "[encoded data removed]",
      "text/plain": [
       "<Figure size 640x480 with 1 Axes>"
      ]
     },
     "metadata": {},
     "output_type": "display_data"
    }
   ],
   "source": [
    "#Try standardization\n",
    "prev_mean = np.mean(X_train['previous'])\n",
    "prev_std = np.std(X_train['previous'])\n",
    "prev_normed = (X_train['previous'] - prev_mean)/prev_std\n",
    "print(sum(prev_normed < 0))\n",
    "plt.hist(prev_normed, bins=100)\n",
    "plt.show()"
   ]
  },
  {
   "cell_type": "markdown",
   "metadata": {},
   "source": [
    "The range is still much to wide for this feature. Let's do ordinal encoding. It seems fairly reasonable to do 0, 1, and 2, where 2 replaces any value greater than 1."
   ]
  },
  {
   "cell_type": "code",
   "execution_count": 43,
   "metadata": {},
   "outputs": [
    {
     "data": {
      "image/png": "[encoded data removed]",
      "text/plain": [
       "<Figure size 640x480 with 1 Axes>"
      ]
     },
     "metadata": {},
     "output_type": "display_data"
    }
   ],
   "source": [
    "prev_ordinal = X_train['previous'].mask(X_train['previous']>1, 2)\n",
    "X_train['previous'] = prev_ordinal\n",
    "plt.hist(X_train['previous'])\n",
    "plt.show()"
   ]
  },
  {
   "cell_type": "code",
   "execution_count": 44,
   "metadata": {},
   "outputs": [
    {
     "data": {
      "text/html": [
       "<div>\n",
       "<style scoped>\n",
       "    .dataframe tbody tr th:only-of-type {\n",
       "        vertical-align: middle;\n",
       "    }\n",
       "\n",
       "    .dataframe tbody tr th {\n",
       "        vertical-align: top;\n",
       "    }\n",
       "\n",
       "    .dataframe thead th {\n",
       "        text-align: right;\n",
       "    }\n",
       "</style>\n",
       "<table border=\"1\" class=\"dataframe\">\n",
       "  <thead>\n",
       "    <tr style=\"text-align: right;\">\n",
       "      <th></th>\n",
       "      <th>age</th>\n",
       "      <th>education</th>\n",
       "      <th>balance</th>\n",
       "      <th>campaign</th>\n",
       "      <th>pdays</th>\n",
       "      <th>previous</th>\n",
       "      <th>job_admin.</th>\n",
       "      <th>job_blue-collar</th>\n",
       "      <th>job_entrepreneur</th>\n",
       "      <th>job_housemaid</th>\n",
       "      <th>...</th>\n",
       "      <th>loan_yes</th>\n",
       "      <th>contact_telephone</th>\n",
       "      <th>day_of_month_rbf1</th>\n",
       "      <th>day_of_month_rbf2</th>\n",
       "      <th>day_of_month_rbf3</th>\n",
       "      <th>day_of_month_rbf4</th>\n",
       "      <th>month_rbf1</th>\n",
       "      <th>month_rbf2</th>\n",
       "      <th>month_rbf3</th>\n",
       "      <th>month_rbf4</th>\n",
       "    </tr>\n",
       "  </thead>\n",
       "  <tbody>\n",
       "    <tr>\n",
       "      <th>0</th>\n",
       "      <td>0.415584</td>\n",
       "      <td>3</td>\n",
       "      <td>-0.448813</td>\n",
       "      <td>1.386294</td>\n",
       "      <td>-0.409938</td>\n",
       "      <td>0</td>\n",
       "      <td>0.0</td>\n",
       "      <td>0.0</td>\n",
       "      <td>0.0</td>\n",
       "      <td>0.0</td>\n",
       "      <td>...</td>\n",
       "      <td>0.0</td>\n",
       "      <td>0.0</td>\n",
       "      <td>0.236928</td>\n",
       "      <td>0.039164</td>\n",
       "      <td>0.527292</td>\n",
       "      <td>0.960789</td>\n",
       "      <td>0.120549</td>\n",
       "      <td>0.091774</td>\n",
       "      <td>0.742657</td>\n",
       "      <td>0.813336</td>\n",
       "    </tr>\n",
       "    <tr>\n",
       "      <th>1</th>\n",
       "      <td>0.233766</td>\n",
       "      <td>3</td>\n",
       "      <td>-0.242308</td>\n",
       "      <td>0.000000</td>\n",
       "      <td>-0.409938</td>\n",
       "      <td>0</td>\n",
       "      <td>0.0</td>\n",
       "      <td>0.0</td>\n",
       "      <td>0.0</td>\n",
       "      <td>0.0</td>\n",
       "      <td>...</td>\n",
       "      <td>0.0</td>\n",
       "      <td>0.0</td>\n",
       "      <td>0.982379</td>\n",
       "      <td>0.471842</td>\n",
       "      <td>0.030671</td>\n",
       "      <td>0.276804</td>\n",
       "      <td>0.876138</td>\n",
       "      <td>0.667004</td>\n",
       "      <td>0.068722</td>\n",
       "      <td>0.155750</td>\n",
       "    </tr>\n",
       "    <tr>\n",
       "      <th>2</th>\n",
       "      <td>0.181818</td>\n",
       "      <td>2</td>\n",
       "      <td>-0.435374</td>\n",
       "      <td>1.386294</td>\n",
       "      <td>1.464033</td>\n",
       "      <td>2</td>\n",
       "      <td>0.0</td>\n",
       "      <td>0.0</td>\n",
       "      <td>0.0</td>\n",
       "      <td>0.0</td>\n",
       "      <td>...</td>\n",
       "      <td>0.0</td>\n",
       "      <td>0.0</td>\n",
       "      <td>0.931358</td>\n",
       "      <td>0.584045</td>\n",
       "      <td>0.049566</td>\n",
       "      <td>0.201001</td>\n",
       "      <td>0.876138</td>\n",
       "      <td>0.667004</td>\n",
       "      <td>0.068722</td>\n",
       "      <td>0.155750</td>\n",
       "    </tr>\n",
       "    <tr>\n",
       "      <th>3</th>\n",
       "      <td>0.129870</td>\n",
       "      <td>3</td>\n",
       "      <td>-0.441602</td>\n",
       "      <td>1.098612</td>\n",
       "      <td>-0.409938</td>\n",
       "      <td>0</td>\n",
       "      <td>0.0</td>\n",
       "      <td>0.0</td>\n",
       "      <td>0.0</td>\n",
       "      <td>0.0</td>\n",
       "      <td>...</td>\n",
       "      <td>0.0</td>\n",
       "      <td>0.0</td>\n",
       "      <td>1.000000</td>\n",
       "      <td>0.367879</td>\n",
       "      <td>0.018316</td>\n",
       "      <td>0.367879</td>\n",
       "      <td>0.036670</td>\n",
       "      <td>0.247414</td>\n",
       "      <td>0.967483</td>\n",
       "      <td>0.512005</td>\n",
       "    </tr>\n",
       "    <tr>\n",
       "      <th>4</th>\n",
       "      <td>0.272727</td>\n",
       "      <td>2</td>\n",
       "      <td>-0.088577</td>\n",
       "      <td>1.791759</td>\n",
       "      <td>-0.409938</td>\n",
       "      <td>0</td>\n",
       "      <td>0.0</td>\n",
       "      <td>0.0</td>\n",
       "      <td>0.0</td>\n",
       "      <td>0.0</td>\n",
       "      <td>...</td>\n",
       "      <td>0.0</td>\n",
       "      <td>0.0</td>\n",
       "      <td>0.931358</td>\n",
       "      <td>0.201001</td>\n",
       "      <td>0.049566</td>\n",
       "      <td>0.584045</td>\n",
       "      <td>0.120549</td>\n",
       "      <td>0.813336</td>\n",
       "      <td>0.742657</td>\n",
       "      <td>0.091774</td>\n",
       "    </tr>\n",
       "  </tbody>\n",
       "</table>\n",
       "<p>5 rows × 35 columns</p>\n",
       "</div>"
      ],
      "text/plain": [
       "        age  education   balance  campaign     pdays  previous  job_admin.  \\\n",
       "0  0.415584          3 -0.448813  1.386294 -0.409938         0         0.0   \n",
       "1  0.233766          3 -0.242308  0.000000 -0.409938         0         0.0   \n",
       "2  0.181818          2 -0.435374  1.386294  1.464033         2         0.0   \n",
       "3  0.129870          3 -0.441602  1.098612 -0.409938         0         0.0   \n",
       "4  0.272727          2 -0.088577  1.791759 -0.409938         0         0.0   \n",
       "\n",
       "   job_blue-collar  job_entrepreneur  job_housemaid  ...  loan_yes  \\\n",
       "0              0.0               0.0            0.0  ...       0.0   \n",
       "1              0.0               0.0            0.0  ...       0.0   \n",
       "2              0.0               0.0            0.0  ...       0.0   \n",
       "3              0.0               0.0            0.0  ...       0.0   \n",
       "4              0.0               0.0            0.0  ...       0.0   \n",
       "\n",
       "   contact_telephone  day_of_month_rbf1  day_of_month_rbf2  day_of_month_rbf3  \\\n",
       "0                0.0           0.236928           0.039164           0.527292   \n",
       "1                0.0           0.982379           0.471842           0.030671   \n",
       "2                0.0           0.931358           0.584045           0.049566   \n",
       "3                0.0           1.000000           0.367879           0.018316   \n",
       "4                0.0           0.931358           0.201001           0.049566   \n",
       "\n",
       "   day_of_month_rbf4  month_rbf1  month_rbf2  month_rbf3  month_rbf4  \n",
       "0           0.960789    0.120549    0.091774    0.742657    0.813336  \n",
       "1           0.276804    0.876138    0.667004    0.068722    0.155750  \n",
       "2           0.201001    0.876138    0.667004    0.068722    0.155750  \n",
       "3           0.367879    0.036670    0.247414    0.967483    0.512005  \n",
       "4           0.584045    0.120549    0.813336    0.742657    0.091774  \n",
       "\n",
       "[5 rows x 35 columns]"
      ]
     },
     "execution_count": 44,
     "metadata": {},
     "output_type": "execute_result"
    }
   ],
   "source": [
    "#Double check everything in X_train looks good\n",
    "X_train.head()"
   ]
  },
  {
   "cell_type": "markdown",
   "metadata": {},
   "source": [
    "### Apply Processing to Validation and Test Sets"
   ]
  },
  {
   "cell_type": "code",
   "execution_count": 45,
   "metadata": {},
   "outputs": [],
   "source": [
    "def encode_and_normalize(df):\n",
    "\n",
    "    \"\"\"Uses several variables defined in cells above. Is not usable without running previous cells.\"\"\"\n",
    "\n",
    "    #one-hot and binary encoding\n",
    "    categorical_vars = ['job', 'marital', 'poutcome', 'default', 'housing','loan','contact']\n",
    "    oh_encoded = oh_encoder.transform(df[categorical_vars]) #need to find way to save this if want code to be reusable\n",
    "    ohe_df = pd.DataFrame(oh_encoded, columns=oh_encoder.get_feature_names_out())\n",
    "    df.drop(columns=categorical_vars, inplace=True)\n",
    "    ohe_df.set_index(df.index)\n",
    "    df = pd.merge(df, ohe_df, left_index=True, right_index=True)\n",
    "\n",
    "    #ordinal encoding for education\n",
    "    df['education'] = [ordinal_enc_dict[df['education'].iloc[i]] for i in range(len(df))]\n",
    "\n",
    "    #min-max scaling for age\n",
    "    df['age'] = (df['age'] - age_min)/(age_max - age_min)\n",
    "\n",
    "    #standardization for balance\n",
    "    balance_scaled = (df['balance'] - balance_mean)/balance_std #may want to standardize with mean and sd of val/test dataset instead\n",
    "    balance_scaled_masked = pd.DataFrame(balance_scaled).mask(balance_scaled > 5, 5)\n",
    "    df['balance'] = balance_scaled_masked\n",
    "\n",
    "    #rbf encoding for time features\n",
    "    rbf_day = RepeatingBasisFunction(n_periods=4, column='day_of_week', input_range=(1,31))\n",
    "    day_of_week_transformed = np.array(rbf_day.fit_transform(df))\n",
    "    df.drop(columns='day_of_week',inplace=True)\n",
    "    df['day_of_month_rbf1'] = day_of_week_transformed[:,0]\n",
    "    df['day_of_month_rbf2'] = day_of_week_transformed[:,1]\n",
    "    df['day_of_month_rbf3'] = day_of_week_transformed[:,2]\n",
    "    df['day_of_month_rbf4'] = day_of_week_transformed[:,3]\n",
    "\n",
    "    rbf_month = RepeatingBasisFunction(n_periods=4, column='month', input_range=(1,12))\n",
    "    df['month'] = df['month'].replace(month_dict)\n",
    "    month_transformed = np.array(rbf_month.fit_transform(df))\n",
    "    df.drop(columns='month',inplace=True)\n",
    "    df['month_rbf1'] = month_transformed[:,0]\n",
    "    df['month_rbf2'] = month_transformed[:,1]\n",
    "    df['month_rbf3'] = month_transformed[:,2]\n",
    "    df['month_rbf4'] = month_transformed[:,3]\n",
    "\n",
    "    #log transform campaign\n",
    "    df['campaign'] = np.log(df['campaign'].to_list())\n",
    "\n",
    "    #standardize pdays\n",
    "    df['pdays'] = (df['pdays'] - pdays_mean)/pdays_std #may want to use mean and sd of test/val dataset instead\n",
    "\n",
    "    #ordinal encode previous\n",
    "    df['previous'] = df['previous'].mask(df['previous']>1, 2)\n",
    "\n",
    "    return(df)"
   ]
  },
  {
   "cell_type": "code",
   "execution_count": 46,
   "metadata": {},
   "outputs": [
    {
     "name": "stderr",
     "output_type": "stream",
     "text": [
      "/var/folders/sk/_mw52g314ps5mcv8jqdlynjc0000gn/T/ipykernel_5007/4035820494.py:34: FutureWarning: Downcasting behavior in `replace` is deprecated and will be removed in a future version. To retain the old behavior, explicitly call `result.infer_objects(copy=False)`. To opt-in to the future behavior, set `pd.set_option('future.no_silent_downcasting', True)`\n",
      "  df['month'] = df['month'].replace(month_dict)\n",
      "/var/folders/sk/_mw52g314ps5mcv8jqdlynjc0000gn/T/ipykernel_5007/4035820494.py:34: FutureWarning: Downcasting behavior in `replace` is deprecated and will be removed in a future version. To retain the old behavior, explicitly call `result.infer_objects(copy=False)`. To opt-in to the future behavior, set `pd.set_option('future.no_silent_downcasting', True)`\n",
      "  df['month'] = df['month'].replace(month_dict)\n"
     ]
    },
    {
     "data": {
      "text/html": [
       "<div>\n",
       "<style scoped>\n",
       "    .dataframe tbody tr th:only-of-type {\n",
       "        vertical-align: middle;\n",
       "    }\n",
       "\n",
       "    .dataframe tbody tr th {\n",
       "        vertical-align: top;\n",
       "    }\n",
       "\n",
       "    .dataframe thead th {\n",
       "        text-align: right;\n",
       "    }\n",
       "</style>\n",
       "<table border=\"1\" class=\"dataframe\">\n",
       "  <thead>\n",
       "    <tr style=\"text-align: right;\">\n",
       "      <th></th>\n",
       "      <th>age</th>\n",
       "      <th>education</th>\n",
       "      <th>balance</th>\n",
       "      <th>campaign</th>\n",
       "      <th>pdays</th>\n",
       "      <th>previous</th>\n",
       "      <th>job_admin.</th>\n",
       "      <th>job_blue-collar</th>\n",
       "      <th>job_entrepreneur</th>\n",
       "      <th>job_housemaid</th>\n",
       "      <th>...</th>\n",
       "      <th>loan_yes</th>\n",
       "      <th>contact_telephone</th>\n",
       "      <th>day_of_month_rbf1</th>\n",
       "      <th>day_of_month_rbf2</th>\n",
       "      <th>day_of_month_rbf3</th>\n",
       "      <th>day_of_month_rbf4</th>\n",
       "      <th>month_rbf1</th>\n",
       "      <th>month_rbf2</th>\n",
       "      <th>month_rbf3</th>\n",
       "      <th>month_rbf4</th>\n",
       "    </tr>\n",
       "  </thead>\n",
       "  <tbody>\n",
       "    <tr>\n",
       "      <th>0</th>\n",
       "      <td>0.324675</td>\n",
       "      <td>1</td>\n",
       "      <td>-0.241652</td>\n",
       "      <td>0.693147</td>\n",
       "      <td>-0.409938</td>\n",
       "      <td>0</td>\n",
       "      <td>0.0</td>\n",
       "      <td>1.0</td>\n",
       "      <td>0.0</td>\n",
       "      <td>0.0</td>\n",
       "      <td>...</td>\n",
       "      <td>0.0</td>\n",
       "      <td>0.0</td>\n",
       "      <td>0.030671</td>\n",
       "      <td>0.471842</td>\n",
       "      <td>0.982379</td>\n",
       "      <td>0.276804</td>\n",
       "      <td>0.120549</td>\n",
       "      <td>0.813336</td>\n",
       "      <td>0.742657</td>\n",
       "      <td>0.091774</td>\n",
       "    </tr>\n",
       "    <tr>\n",
       "      <th>1</th>\n",
       "      <td>0.298701</td>\n",
       "      <td>2</td>\n",
       "      <td>-0.288854</td>\n",
       "      <td>0.000000</td>\n",
       "      <td>-0.409938</td>\n",
       "      <td>0</td>\n",
       "      <td>1.0</td>\n",
       "      <td>0.0</td>\n",
       "      <td>0.0</td>\n",
       "      <td>0.0</td>\n",
       "      <td>...</td>\n",
       "      <td>0.0</td>\n",
       "      <td>0.0</td>\n",
       "      <td>0.169013</td>\n",
       "      <td>0.062177</td>\n",
       "      <td>0.641180</td>\n",
       "      <td>0.894839</td>\n",
       "      <td>0.876138</td>\n",
       "      <td>0.155750</td>\n",
       "      <td>0.068722</td>\n",
       "      <td>0.667004</td>\n",
       "    </tr>\n",
       "    <tr>\n",
       "      <th>2</th>\n",
       "      <td>0.350649</td>\n",
       "      <td>2</td>\n",
       "      <td>0.869541</td>\n",
       "      <td>1.098612</td>\n",
       "      <td>-0.409938</td>\n",
       "      <td>0</td>\n",
       "      <td>0.0</td>\n",
       "      <td>1.0</td>\n",
       "      <td>0.0</td>\n",
       "      <td>0.0</td>\n",
       "      <td>...</td>\n",
       "      <td>0.0</td>\n",
       "      <td>0.0</td>\n",
       "      <td>0.931358</td>\n",
       "      <td>0.201001</td>\n",
       "      <td>0.049566</td>\n",
       "      <td>0.584045</td>\n",
       "      <td>1.000000</td>\n",
       "      <td>0.367879</td>\n",
       "      <td>0.018316</td>\n",
       "      <td>0.367879</td>\n",
       "    </tr>\n",
       "    <tr>\n",
       "      <th>3</th>\n",
       "      <td>0.220779</td>\n",
       "      <td>2</td>\n",
       "      <td>-0.396367</td>\n",
       "      <td>0.000000</td>\n",
       "      <td>-0.409938</td>\n",
       "      <td>0</td>\n",
       "      <td>1.0</td>\n",
       "      <td>0.0</td>\n",
       "      <td>0.0</td>\n",
       "      <td>0.0</td>\n",
       "      <td>...</td>\n",
       "      <td>1.0</td>\n",
       "      <td>0.0</td>\n",
       "      <td>0.018316</td>\n",
       "      <td>0.367879</td>\n",
       "      <td>1.000000</td>\n",
       "      <td>0.367879</td>\n",
       "      <td>0.304196</td>\n",
       "      <td>0.991770</td>\n",
       "      <td>0.437602</td>\n",
       "      <td>0.026131</td>\n",
       "    </tr>\n",
       "    <tr>\n",
       "      <th>4</th>\n",
       "      <td>0.259740</td>\n",
       "      <td>3</td>\n",
       "      <td>1.445460</td>\n",
       "      <td>1.098612</td>\n",
       "      <td>-0.409938</td>\n",
       "      <td>0</td>\n",
       "      <td>0.0</td>\n",
       "      <td>0.0</td>\n",
       "      <td>0.0</td>\n",
       "      <td>0.0</td>\n",
       "      <td>...</td>\n",
       "      <td>0.0</td>\n",
       "      <td>0.0</td>\n",
       "      <td>0.320531</td>\n",
       "      <td>0.023807</td>\n",
       "      <td>0.418486</td>\n",
       "      <td>0.995565</td>\n",
       "      <td>0.120549</td>\n",
       "      <td>0.813336</td>\n",
       "      <td>0.742657</td>\n",
       "      <td>0.091774</td>\n",
       "    </tr>\n",
       "  </tbody>\n",
       "</table>\n",
       "<p>5 rows × 35 columns</p>\n",
       "</div>"
      ],
      "text/plain": [
       "        age  education   balance  campaign     pdays  previous  job_admin.  \\\n",
       "0  0.324675          1 -0.241652  0.693147 -0.409938         0         0.0   \n",
       "1  0.298701          2 -0.288854  0.000000 -0.409938         0         1.0   \n",
       "2  0.350649          2  0.869541  1.098612 -0.409938         0         0.0   \n",
       "3  0.220779          2 -0.396367  0.000000 -0.409938         0         1.0   \n",
       "4  0.259740          3  1.445460  1.098612 -0.409938         0         0.0   \n",
       "\n",
       "   job_blue-collar  job_entrepreneur  job_housemaid  ...  loan_yes  \\\n",
       "0              1.0               0.0            0.0  ...       0.0   \n",
       "1              0.0               0.0            0.0  ...       0.0   \n",
       "2              1.0               0.0            0.0  ...       0.0   \n",
       "3              0.0               0.0            0.0  ...       1.0   \n",
       "4              0.0               0.0            0.0  ...       0.0   \n",
       "\n",
       "   contact_telephone  day_of_month_rbf1  day_of_month_rbf2  day_of_month_rbf3  \\\n",
       "0                0.0           0.030671           0.471842           0.982379   \n",
       "1                0.0           0.169013           0.062177           0.641180   \n",
       "2                0.0           0.931358           0.201001           0.049566   \n",
       "3                0.0           0.018316           0.367879           1.000000   \n",
       "4                0.0           0.320531           0.023807           0.418486   \n",
       "\n",
       "   day_of_month_rbf4  month_rbf1  month_rbf2  month_rbf3  month_rbf4  \n",
       "0           0.276804    0.120549    0.813336    0.742657    0.091774  \n",
       "1           0.894839    0.876138    0.155750    0.068722    0.667004  \n",
       "2           0.584045    1.000000    0.367879    0.018316    0.367879  \n",
       "3           0.367879    0.304196    0.991770    0.437602    0.026131  \n",
       "4           0.995565    0.120549    0.813336    0.742657    0.091774  \n",
       "\n",
       "[5 rows x 35 columns]"
      ]
     },
     "execution_count": 46,
     "metadata": {},
     "output_type": "execute_result"
    }
   ],
   "source": [
    "X_val = pd.read_csv(\"X_val_nonorm.csv\")\n",
    "X_test = pd.read_csv(\"X_test_nonorm.csv\")\n",
    "\n",
    "X_val_normed = encode_and_normalize(X_val)\n",
    "X_test_normed = encode_and_normalize(X_test)\n",
    "\n",
    "X_val_normed.head()"
   ]
  },
  {
   "cell_type": "code",
   "execution_count": 47,
   "metadata": {},
   "outputs": [],
   "source": [
    "#Save everything\n",
    "X_train.to_csv(\"X_train_normed.csv\", index=False)\n",
    "X_val_normed.to_csv(\"X_val_normed.csv\", index=False)\n",
    "X_test_normed.to_csv(\"X_test_normed.csv\", index=False)\n"
   ]
  },
  {
   "cell_type": "markdown",
   "metadata": {},
   "source": [
    "### Create Synthetic Minority Class Samples\n",
    "The dataset is approximately 11% positive examples. The following code blocks use SMOTENC to create synthetic positive examples to optionally add to X_train_nonorm and X_train_normed."
   ]
  },
  {
   "cell_type": "code",
   "execution_count": 48,
   "metadata": {},
   "outputs": [
    {
     "name": "stdout",
     "output_type": "stream",
     "text": [
      "Number of new samples generated: 11651 (24% of all samples)\n",
      "Number of positive samples now in dataset: 15863 (33% of all samples)\n",
      "Synthetic samples make up 73% of all positive samples\n"
     ]
    }
   ],
   "source": [
    "#For normed and encoded data\n",
    "from imblearn.over_sampling import SMOTENC\n",
    "\n",
    "X_train_normed = pd.read_csv(\"X_train_normed.csv\")\n",
    "y_train = pd.read_csv(\"y_train.csv\")\n",
    "\n",
    "feat_list = list(oh_encoder.get_feature_names_out())\n",
    "sm1 = SMOTENC(categorical_features=feat_list,\n",
    "             sampling_strategy=0.5, #desired ratio of the number of samples in the minority class over the number of samples in the majority class after resampling; use 1.0 to get equal numbers\n",
    "             random_state=42\n",
    "             )\n",
    "X_train_normed_resampled, y_train_normed_resampled = sm1.fit_resample(X=X_train_normed, y=y_train)\n",
    "\n",
    "nnew = len(X_train_normed_resampled) - len(X_train_normed)\n",
    "print(\"Number of new samples generated: {} ({:.0%} of all samples)\".format(nnew, nnew/len(X_train_normed_resampled)))\n",
    "numpos = sum(y_train_normed_resampled['label'])\n",
    "oldnumpos = sum(y_train['label'])\n",
    "print(\"Number of positive samples now in dataset: {} ({:.0%} of all samples)\".format(numpos, numpos/len(y_train_normed_resampled)))\n",
    "print(\"Synthetic samples make up {:.0%} of all positive samples\".format((numpos-oldnumpos)/numpos))\n"
   ]
  },
  {
   "cell_type": "code",
   "execution_count": 49,
   "metadata": {},
   "outputs": [
    {
     "name": "stdout",
     "output_type": "stream",
     "text": [
      "Number of new samples generated: 11651 (24% of all samples)\n",
      "Number of positive samples now in dataset: 15863 (33% of all samples)\n",
      "Synthetic samples make up 73% of all positive samples\n"
     ]
    }
   ],
   "source": [
    "#For unencoded data\n",
    "X_train_nonorm = pd.read_csv(\"X_train_nonorm.csv\")\n",
    "\n",
    "#change 'object' dtype to 'categorical' dtype for nonorm data\n",
    "catcols = ['job', 'marital', 'education', 'default', 'housing', 'loan', 'contact', 'month', 'poutcome']\n",
    "for col in catcols:\n",
    "    X_train_nonorm[col] = X_train_nonorm[col].astype('category')\n",
    "\n",
    "sm2 = SMOTENC(categorical_features='auto',\n",
    "              sampling_strategy=0.5,\n",
    "              random_state=42\n",
    "              )\n",
    "X_train_nonorm_resampled, y_train_nonorm_resampled = sm2.fit_resample(X=X_train_nonorm, y=y_train)\n",
    "\n",
    "nnew = len(X_train_nonorm_resampled) - len(X_train_nonorm)\n",
    "numpos = sum(y_train_nonorm_resampled['label'])\n",
    "oldnumpos = sum(y_train['label'])\n",
    "print(\"Number of new samples generated: {} ({:.0%} of all samples)\".format(nnew, nnew/len(X_train_nonorm_resampled)))\n",
    "print(\"Number of positive samples now in dataset: {} ({:.0%} of all samples)\".format(numpos, numpos/len(y_train_nonorm_resampled)))\n",
    "print(\"Synthetic samples make up {:.0%} of all positive samples\".format((numpos-oldnumpos)/numpos))\n"
   ]
  },
  {
   "cell_type": "code",
   "execution_count": 50,
   "metadata": {},
   "outputs": [
    {
     "data": {
      "text/plain": [
       "True"
      ]
     },
     "execution_count": 50,
     "metadata": {},
     "output_type": "execute_result"
    }
   ],
   "source": [
    "#Double-check that y_train_nonorm_resampled is the same as y_train_normed_resampled (used same random seed so should be true)\n",
    "all(y_train_nonorm_resampled == y_train_normed_resampled)"
   ]
  },
  {
   "cell_type": "code",
   "execution_count": null,
   "metadata": {},
   "outputs": [],
   "source": [
    "#Shuffle and save to files\n",
    "from sklearn.utils import shuffle\n",
    "X_train_nonorm_resampled, X_train_normed_resampled, y_train_normed_resampled = shuffle(X_train_nonorm_resampled, X_train_normed_resampled, y_train_normed_resampled, random_state=42)\n",
    "X_train_nonorm_resampled.to_csv(\"X_train_nonorm_smoted.csv\", index=False)\n",
    "X_train_normed_resampled.to_csv(\"X_train_normed_smoted.csv\", index=False)\n",
    "y_train_normed_resampled.to_csv(\"y_train_smoted.csv\", index=False)"
   ]
  }
 ],
 "metadata": {
  "kernelspec": {
   "display_name": "pytorch_venv",
   "language": "python",
   "name": "python3"
  },
  "language_info": {
   "codemirror_mode": {
    "name": "ipython",
    "version": 3
   },
   "file_extension": ".py",
   "mimetype": "text/x-python",
   "name": "python",
   "nbconvert_exporter": "python",
   "pygments_lexer": "ipython3",
   "version": "3.12.7"
  }
 },
 "nbformat": 4,
 "nbformat_minor": 2
}
